{
 "cells": [
  {
   "cell_type": "code",
   "execution_count": 1,
   "metadata": {},
   "outputs": [
    {
     "name": "stdout",
     "output_type": "stream",
     "text": [
      "/Users/antonbabenko/UCU/linear-algebra/ucu-linear-algebra-final-project\n"
     ]
    }
   ],
   "source": [
    "%cd .."
   ]
  },
  {
   "cell_type": "code",
   "execution_count": 2,
   "metadata": {},
   "outputs": [],
   "source": [
    "%load_ext autoreload\n",
    "%autoreload 2\n",
    "%aimport src.nnmf\n",
    "%aimport src.data"
   ]
  },
  {
   "cell_type": "code",
   "execution_count": 3,
   "metadata": {},
   "outputs": [],
   "source": [
    "import warnings\n",
    "\n",
    "import numpy as np\n",
    "import numpy.linalg as la\n",
    "import pandas as pd\n",
    "import matplotlib.pyplot as plt \n",
    "import seaborn as sns\n",
    "\n",
    "from pathlib import Path\n",
    "from tqdm import tqdm\n",
    "from sklearn.decomposition import NMF as SKNMF\n",
    "from surprise import NMF as SurNMF\n",
    "from surprise import Dataset\n",
    "from surprise import Reader\n",
    "\n",
    "from src.nnmf import NNMFModel\n",
    "from src.metrics import rmse\n",
    "from src.data import generate_sparce_matrix\n",
    "\n",
    "warnings.filterwarnings(\"ignore\")"
   ]
  },
  {
   "cell_type": "code",
   "execution_count": 4,
   "metadata": {},
   "outputs": [],
   "source": [
    "data_folder = Path(\"data\")"
   ]
  },
  {
   "cell_type": "code",
   "execution_count": 5,
   "metadata": {},
   "outputs": [],
   "source": [
    "df = pd.read_csv(data_folder / \"subsets\" / \"low-sparsity\" / \"records.csv\")\n",
    "# df = pd.read_csv(data_folder / \"subsets\" / \"mid-sparsity\" / \"records.csv\")\n",
    "# df = pd.read_csv(data_folder / \"subsets\" / \"high-sparsity\" / \"records.csv\")\n",
    "\n",
    "tr_df = df[df.split == \"train\"]\n",
    "val_df = df[df.split == \"val\"]"
   ]
  },
  {
   "cell_type": "markdown",
   "metadata": {},
   "source": [
    "### Check custom NNMF"
   ]
  },
  {
   "cell_type": "code",
   "execution_count": 6,
   "metadata": {},
   "outputs": [
    {
     "name": "stderr",
     "output_type": "stream",
     "text": [
      "train loop: 100%|██████████| 1000/1000 [00:54<00:00, 18.51it/s]"
     ]
    },
    {
     "name": "stdout",
     "output_type": "stream",
     "text": [
      "CPU times: user 2min 43s, sys: 31.5 s, total: 3min 15s\n",
      "Wall time: 54.3 s\n"
     ]
    },
    {
     "name": "stderr",
     "output_type": "stream",
     "text": [
      "\n"
     ]
    },
    {
     "data": {
      "text/plain": [
       "<src.nnmf.NNMFModel at 0x107d70190>"
      ]
     },
     "execution_count": 6,
     "metadata": {},
     "output_type": "execute_result"
    }
   ],
   "source": [
    "%%time\n",
    "model = NNMFModel(n_components=30, max_iter=1000, epsilon=1e-2, verbose=True)\n",
    "model.fit(tr_df)"
   ]
  },
  {
   "cell_type": "code",
   "execution_count": 7,
   "metadata": {},
   "outputs": [
    {
     "name": "stderr",
     "output_type": "stream",
     "text": [
      "predict loop: 28952it [00:02, 10561.48it/s]"
     ]
    },
    {
     "name": "stdout",
     "output_type": "stream",
     "text": [
      "val rmse: 0.99633628954298\n"
     ]
    },
    {
     "name": "stderr",
     "output_type": "stream",
     "text": [
      "\n"
     ]
    }
   ],
   "source": [
    "val_preds = model.predict(val_df)\n",
    "print(\"val rmse:\", rmse(val_df.rating.values, np.array(val_preds)))"
   ]
  },
  {
   "cell_type": "code",
   "execution_count": 8,
   "metadata": {},
   "outputs": [
    {
     "name": "stderr",
     "output_type": "stream",
     "text": [
      "predict loop: 115805it [00:10, 10955.00it/s]"
     ]
    },
    {
     "name": "stdout",
     "output_type": "stream",
     "text": [
      "train rmse: 0.8355799068235551\n"
     ]
    },
    {
     "name": "stderr",
     "output_type": "stream",
     "text": [
      "\n"
     ]
    }
   ],
   "source": [
    "tr_preds = model.predict(tr_df)\n",
    "print(\"train rmse:\", rmse(tr_df.rating.values, tr_preds))"
   ]
  },
  {
   "cell_type": "markdown",
   "metadata": {},
   "source": [
    "### Check Dummy predictor (mean value)"
   ]
  },
  {
   "cell_type": "code",
   "execution_count": 9,
   "metadata": {},
   "outputs": [
    {
     "data": {
      "text/plain": [
       "1.0485102138998519"
      ]
     },
     "execution_count": 9,
     "metadata": {},
     "output_type": "execute_result"
    }
   ],
   "source": [
    "rmse(val_df.rating.values, np.repeat(val_df.rating.mean(), len(val_df)))"
   ]
  },
  {
   "cell_type": "markdown",
   "metadata": {},
   "source": [
    "### Check SVD from Surprise lib"
   ]
  },
  {
   "cell_type": "code",
   "execution_count": 10,
   "metadata": {},
   "outputs": [
    {
     "name": "stderr",
     "output_type": "stream",
     "text": [
      "28952it [00:02, 10240.22it/s]\n"
     ]
    },
    {
     "data": {
      "text/plain": [
       "0.9161318265293671"
      ]
     },
     "execution_count": 10,
     "metadata": {},
     "output_type": "execute_result"
    }
   ],
   "source": [
    "reader = Reader()\n",
    "data = Dataset.load_from_df(tr_df[['customer_id', 'movie_id', 'rating']], reader)\n",
    "trainset = data.build_full_trainset()\n",
    "\n",
    "model = SurNMF()\n",
    "model.fit(trainset)\n",
    "\n",
    "def predict(surprise_model, df):\n",
    "    preds = []\n",
    "    for _, item in tqdm(df.iterrows()):\n",
    "        preds.append(surprise_model.predict(item.customer_id, item.movie_id).est)\n",
    "    return preds\n",
    "\n",
    "val_preds = predict(model, val_df)\n",
    "rmse(val_df.rating.values, val_preds)"
   ]
  },
  {
   "cell_type": "markdown",
   "metadata": {},
   "source": [
    "### Check SVD from Sklearn lib"
   ]
  },
  {
   "cell_type": "code",
   "execution_count": 11,
   "metadata": {},
   "outputs": [
    {
     "name": "stderr",
     "output_type": "stream",
     "text": [
      "28952it [00:02, 11906.57it/s]\n"
     ]
    },
    {
     "data": {
      "text/plain": [
       "1.0023079079467958"
      ]
     },
     "execution_count": 11,
     "metadata": {},
     "output_type": "execute_result"
    }
   ],
   "source": [
    "matrix = generate_sparce_matrix(tr_df)\n",
    "\n",
    "model = SKNMF(n_components=15, init='random', solver='mu')\n",
    "W = model.fit_transform(matrix)\n",
    "H = model.components_\n",
    "\n",
    "def predict(W, H, df):\n",
    "    preds = []\n",
    "    X = W @ H\n",
    "    for _, item in tqdm(df.iterrows()):\n",
    "        preds.append(X[item.customer_id, item.movie_id])\n",
    "    return preds\n",
    "\n",
    "val_preds = predict(W, H, val_df)\n",
    "rmse(val_df.rating.values, val_preds)"
   ]
  },
  {
   "cell_type": "code",
   "execution_count": null,
   "metadata": {},
   "outputs": [],
   "source": []
  }
 ],
 "metadata": {
  "kernelspec": {
   "display_name": "Python 3",
   "language": "python",
   "name": "python3"
  },
  "language_info": {
   "codemirror_mode": {
    "name": "ipython",
    "version": 3
   },
   "file_extension": ".py",
   "mimetype": "text/x-python",
   "name": "python",
   "nbconvert_exporter": "python",
   "pygments_lexer": "ipython3",
   "version": "3.6.9"
  }
 },
 "nbformat": 4,
 "nbformat_minor": 4
}
