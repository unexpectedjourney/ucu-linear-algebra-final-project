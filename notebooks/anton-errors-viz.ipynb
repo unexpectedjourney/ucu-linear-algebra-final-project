{
 "cells": [
  {
   "cell_type": "code",
   "execution_count": 1,
   "metadata": {},
   "outputs": [
    {
     "name": "stdout",
     "output_type": "stream",
     "text": [
      "/home/antonbabenko/UCU/ucu-linear-algebra-final-project\n"
     ]
    }
   ],
   "source": [
    "%cd .."
   ]
  },
  {
   "cell_type": "code",
   "execution_count": 2,
   "metadata": {},
   "outputs": [],
   "source": [
    "%load_ext autoreload\n",
    "%autoreload 2\n",
    "%aimport src.metrics\n",
    "%aimport src.visualization"
   ]
  },
  {
   "cell_type": "code",
   "execution_count": 3,
   "metadata": {},
   "outputs": [],
   "source": [
    "from pathlib import Path\n",
    "\n",
    "import numpy as np\n",
    "import pandas as pd\n",
    "import altair as alt\n",
    "import altair_viewer\n",
    "\n",
    "from src.metrics import relative_prediction_error\n",
    "from src.visualization import plot_relative_prediction_error"
   ]
  },
  {
   "cell_type": "code",
   "execution_count": 4,
   "metadata": {},
   "outputs": [
    {
     "data": {
      "text/plain": [
       "DataTransformerRegistry.enable('default')"
      ]
     },
     "execution_count": 4,
     "metadata": {},
     "output_type": "execute_result"
    }
   ],
   "source": [
    "alt.renderers.enable('mimetype')\n",
    "alt.data_transformers.disable_max_rows()"
   ]
  },
  {
   "cell_type": "code",
   "execution_count": 5,
   "metadata": {},
   "outputs": [],
   "source": [
    "data_dir = Path(\"results\")\n",
    "results_dir = data_dir / \"15-02-21\"\n",
    "save_dir = Path(\"figs\")"
   ]
  },
  {
   "cell_type": "code",
   "execution_count": 6,
   "metadata": {},
   "outputs": [],
   "source": [
    "preds_df = pd.read_csv(results_dir / \"val_preds.csv\")"
   ]
  },
  {
   "cell_type": "code",
   "execution_count": 7,
   "metadata": {},
   "outputs": [
    {
     "data": {
      "text/html": [
       "<div>\n",
       "<style scoped>\n",
       "    .dataframe tbody tr th:only-of-type {\n",
       "        vertical-align: middle;\n",
       "    }\n",
       "\n",
       "    .dataframe tbody tr th {\n",
       "        vertical-align: top;\n",
       "    }\n",
       "\n",
       "    .dataframe thead th {\n",
       "        text-align: right;\n",
       "    }\n",
       "</style>\n",
       "<table border=\"1\" class=\"dataframe\">\n",
       "  <thead>\n",
       "    <tr style=\"text-align: right;\">\n",
       "      <th></th>\n",
       "      <th>movie_id</th>\n",
       "      <th>customer_id</th>\n",
       "      <th>rating</th>\n",
       "      <th>date</th>\n",
       "      <th>split</th>\n",
       "      <th>als-svd</th>\n",
       "      <th>funk-svd</th>\n",
       "      <th>nnmf</th>\n",
       "      <th>neural-svd</th>\n",
       "      <th>surprise-svd</th>\n",
       "    </tr>\n",
       "  </thead>\n",
       "  <tbody>\n",
       "    <tr>\n",
       "      <th>0</th>\n",
       "      <td>540</td>\n",
       "      <td>646</td>\n",
       "      <td>3.0</td>\n",
       "      <td>1999-12-31</td>\n",
       "      <td>val</td>\n",
       "      <td>2.880528</td>\n",
       "      <td>2.599780</td>\n",
       "      <td>3.621796</td>\n",
       "      <td>3.266399</td>\n",
       "      <td>2.877070</td>\n",
       "    </tr>\n",
       "    <tr>\n",
       "      <th>1</th>\n",
       "      <td>723</td>\n",
       "      <td>646</td>\n",
       "      <td>2.0</td>\n",
       "      <td>2000-01-06</td>\n",
       "      <td>val</td>\n",
       "      <td>3.271187</td>\n",
       "      <td>3.434981</td>\n",
       "      <td>3.739512</td>\n",
       "      <td>3.266399</td>\n",
       "      <td>3.480361</td>\n",
       "    </tr>\n",
       "    <tr>\n",
       "      <th>2</th>\n",
       "      <td>398</td>\n",
       "      <td>509</td>\n",
       "      <td>4.0</td>\n",
       "      <td>2000-01-06</td>\n",
       "      <td>val</td>\n",
       "      <td>3.882678</td>\n",
       "      <td>4.064758</td>\n",
       "      <td>3.883823</td>\n",
       "      <td>3.762988</td>\n",
       "      <td>4.039360</td>\n",
       "    </tr>\n",
       "    <tr>\n",
       "      <th>3</th>\n",
       "      <td>391</td>\n",
       "      <td>509</td>\n",
       "      <td>4.0</td>\n",
       "      <td>2000-01-06</td>\n",
       "      <td>val</td>\n",
       "      <td>3.999982</td>\n",
       "      <td>4.081499</td>\n",
       "      <td>3.804336</td>\n",
       "      <td>3.762988</td>\n",
       "      <td>4.003301</td>\n",
       "    </tr>\n",
       "    <tr>\n",
       "      <th>4</th>\n",
       "      <td>412</td>\n",
       "      <td>646</td>\n",
       "      <td>1.0</td>\n",
       "      <td>2000-01-06</td>\n",
       "      <td>val</td>\n",
       "      <td>2.908660</td>\n",
       "      <td>3.536602</td>\n",
       "      <td>3.728763</td>\n",
       "      <td>3.266399</td>\n",
       "      <td>3.700313</td>\n",
       "    </tr>\n",
       "  </tbody>\n",
       "</table>\n",
       "</div>"
      ],
      "text/plain": [
       "   movie_id  customer_id  rating        date split   als-svd  funk-svd  \\\n",
       "0       540          646     3.0  1999-12-31   val  2.880528  2.599780   \n",
       "1       723          646     2.0  2000-01-06   val  3.271187  3.434981   \n",
       "2       398          509     4.0  2000-01-06   val  3.882678  4.064758   \n",
       "3       391          509     4.0  2000-01-06   val  3.999982  4.081499   \n",
       "4       412          646     1.0  2000-01-06   val  2.908660  3.536602   \n",
       "\n",
       "       nnmf  neural-svd  surprise-svd  \n",
       "0  3.621796    3.266399      2.877070  \n",
       "1  3.739512    3.266399      3.480361  \n",
       "2  3.883823    3.762988      4.039360  \n",
       "3  3.804336    3.762988      4.003301  \n",
       "4  3.728763    3.266399      3.700313  "
      ]
     },
     "execution_count": 7,
     "metadata": {},
     "output_type": "execute_result"
    }
   ],
   "source": [
    "preds_df.head()"
   ]
  },
  {
   "cell_type": "code",
   "execution_count": 8,
   "metadata": {},
   "outputs": [],
   "source": [
    "columns = [\"als-svd\", \"funk-svd\", \"nnmf\", \"neural-svd\", \"surprise-svd\"]\n",
    "for column in columns:\n",
    "    save_path = str(save_dir / f\"{column}-relative-prediction-errors.html\")\n",
    "    actuals = np.array(preds_df[\"rating\"].tolist())\n",
    "    preds = np.array(preds_df[column].tolist())\n",
    "    inner_df = pd.DataFrame({\"relative_prediction_error\": relative_prediction_error(actuals, preds)[0]})\n",
    "    chart = plot_relative_prediction_error(inner_df, column=\"relative_prediction_error\", algo=column, save=True, save_path=save_path)"
   ]
  },
  {
   "cell_type": "code",
   "execution_count": null,
   "metadata": {},
   "outputs": [],
   "source": []
  }
 ],
 "metadata": {
  "kernelspec": {
   "display_name": "Python 3",
   "language": "python",
   "name": "python3"
  },
  "language_info": {
   "codemirror_mode": {
    "name": "ipython",
    "version": 3
   },
   "file_extension": ".py",
   "mimetype": "text/x-python",
   "name": "python",
   "nbconvert_exporter": "python",
   "pygments_lexer": "ipython3",
   "version": "3.6.9"
  }
 },
 "nbformat": 4,
 "nbformat_minor": 4
}
