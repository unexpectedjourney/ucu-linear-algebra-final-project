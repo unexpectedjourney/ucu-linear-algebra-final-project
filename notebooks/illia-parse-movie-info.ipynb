{
 "cells": [
  {
   "cell_type": "code",
   "execution_count": 1,
   "metadata": {},
   "outputs": [
    {
     "name": "stdout",
     "output_type": "stream",
     "text": [
      "/home/iovcharenko/Documents/NotWork/UCU/liner-algebra/ucu-linear-algebra-final-project\n"
     ]
    }
   ],
   "source": [
    "%cd .."
   ]
  },
  {
   "cell_type": "code",
   "execution_count": 195,
   "metadata": {},
   "outputs": [],
   "source": [
    "import json\n",
    "\n",
    "import pandas as ps\n",
    "import tmdbsimple as tmdb\n",
    "from pathlib import Path\n",
    "\n",
    "\n",
    "data_folder = Path(\"data\")\n",
    "\n",
    "tmdb.API_KEY = 'f65a5000b29ed2598fd0935edc5fc8b1'\n",
    "\n",
    "meta_df = pd.DataFrame()\n",
    "\n",
    "pbar = tqdm(np.sort(df.movie_name.unique()))\n",
    "for movie_name in pbar:\n",
    "    try:\n",
    "        pbar.set_description(f\"movie: {movie_name}\")\n",
    "        \n",
    "        search = tmdb.Search()\n",
    "        response = search.movie(query=movie_name)\n",
    "        if len(search.results) <= 0:\n",
    "            print(f\"no such movie: {movie_name}\")\n",
    "            continue\n",
    "\n",
    "        movie = tmdb.Movies(search.results[0][\"id\"])\n",
    "        meta_df = meta_df.append({\n",
    "            \"movie_name\": movie_name,\n",
    "            \"info\": json.dumps(movie.info()),\n",
    "            \"alternative_titles\": json.dumps(movie.alternative_titles()),\n",
    "            \"keywords\": json.dumps(movie.keywords()),\n",
    "\n",
    "        }, ignore_index=True)\n",
    "    except Exception as e:\n",
    "        print(f\"movie error: {movie_name}\")\n",
    "        print(e)\n",
    "        continue\n",
    "        \n",
    "meta_df.to_csv(data_folder / \"meta\" / \"movie_info.csv\", index=False)"
   ]
  }
 ],
 "metadata": {
  "kernelspec": {
   "display_name": "Python 3",
   "language": "python",
   "name": "python3"
  },
  "language_info": {
   "codemirror_mode": {
    "name": "ipython",
    "version": 3
   },
   "file_extension": ".py",
   "mimetype": "text/x-python",
   "name": "python",
   "nbconvert_exporter": "python",
   "pygments_lexer": "ipython3",
   "version": "3.7.9"
  }
 },
 "nbformat": 4,
 "nbformat_minor": 4
}
