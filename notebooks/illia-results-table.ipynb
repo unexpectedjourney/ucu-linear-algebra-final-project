{
 "cells": [
  {
   "cell_type": "code",
   "execution_count": 1,
   "metadata": {},
   "outputs": [],
   "source": [
    "%load_ext autoreload\n",
    "%autoreload 2"
   ]
  },
  {
   "cell_type": "code",
   "execution_count": 2,
   "metadata": {},
   "outputs": [
    {
     "name": "stdout",
     "output_type": "stream",
     "text": [
      "/home/iovcharenko/Documents/NotWork/UCU/liner-algebra/ucu-linear-algebra-final-project\n"
     ]
    }
   ],
   "source": [
    "%cd .."
   ]
  },
  {
   "cell_type": "code",
   "execution_count": 3,
   "metadata": {},
   "outputs": [],
   "source": [
    "import torch\n",
    "import datetime\n",
    "\n",
    "import numpy as np\n",
    "import pandas as pd\n",
    "import matplotlib.pyplot as plt \n",
    "\n",
    "from pathlib import Path\n",
    "from tqdm.cli import tqdm \n",
    "\n",
    "from surprise import SVD\n",
    "from surprise import Dataset\n",
    "from surprise import Reader\n",
    "\n",
    "from src.als import AlsSVD\n",
    "from src.funk import Funk\n",
    "from src.nnmf import NNMFModel\n",
    "from src.neural_svd import NeuralSVD\n",
    "from src.metrics import rmse"
   ]
  },
  {
   "cell_type": "code",
   "execution_count": 4,
   "metadata": {},
   "outputs": [],
   "source": [
    "data_folder = Path(\"data\")"
   ]
  },
  {
   "cell_type": "code",
   "execution_count": 5,
   "metadata": {},
   "outputs": [],
   "source": [
    "df = pd.read_csv(data_folder / \"subsets\" / \"low-sparsity\" / \"records.csv\")\n",
    "# df = pd.read_csv(data_folder / \"subsets\" / \"mid-sparsity\" / \"records.csv\")\n",
    "# df = pd.read_csv(data_folder / \"subsets\" / \"high-sparsity\" / \"records.csv\")\n",
    "\n",
    "tr_df = df[df.split == \"train\"]\n",
    "val_df = df[df.split == \"val\"]"
   ]
  },
  {
   "cell_type": "code",
   "execution_count": 6,
   "metadata": {},
   "outputs": [],
   "source": [
    "results_df = val_df.copy()\n",
    "scores = {}"
   ]
  },
  {
   "cell_type": "markdown",
   "metadata": {},
   "source": [
    "## ALS-SVD"
   ]
  },
  {
   "cell_type": "code",
   "execution_count": 7,
   "metadata": {},
   "outputs": [
    {
     "name": "stderr",
     "output_type": "stream",
     "text": [
      "train loop: 100%|██████████| 40/40 [01:32<00:00,  2.31s/it]\n",
      "predict loop: 28952it [00:01, 14556.01it/s]\n",
      "predict loop: 115805it [00:08, 14370.40it/s]\n"
     ]
    }
   ],
   "source": [
    "model = AlsSVD(k=50, n_epochs=40, reg=0.1)\n",
    "model.fit(tr_df)\n",
    "\n",
    "val_preds = model.predict(val_df)\n",
    "val_rmse = rmse(val_df.rating.values, val_preds)\n",
    "\n",
    "tr_preds = model.predict(tr_df)\n",
    "train_rmse = rmse(tr_df.rating.values, tr_preds)\n",
    "\n",
    "model_name = \"als-svd\"\n",
    "results_df[model_name] = val_preds\n",
    "scores[model_name] = {\n",
    "    \"train\": train_rmse,\n",
    "    \"val\": val_rmse,\n",
    "}"
   ]
  },
  {
   "cell_type": "markdown",
   "metadata": {},
   "source": [
    "## Funk SVD"
   ]
  },
  {
   "cell_type": "code",
   "execution_count": 8,
   "metadata": {
    "scrolled": true
   },
   "outputs": [
    {
     "name": "stdout",
     "output_type": "stream",
     "text": [
      "Epoch 1/100:\n",
      "val_loss: 1.01, val_rmse: 1.00, val_mae: 0.83, took 5.9 sec\n",
      "Epoch 2/100:\n",
      "val_loss: 0.96, val_rmse: 0.98, val_mae: 0.81, took 5.8 sec\n",
      "Epoch 3/100:\n",
      "val_loss: 0.92, val_rmse: 0.96, val_mae: 0.79, took 5.9 sec\n",
      "Epoch 4/100:\n",
      "val_loss: 0.89, val_rmse: 0.95, val_mae: 0.77, took 5.7 sec\n",
      "Epoch 5/100:\n",
      "val_loss: 0.87, val_rmse: 0.93, val_mae: 0.76, took 5.9 sec\n",
      "Epoch 6/100:\n",
      "val_loss: 0.86, val_rmse: 0.93, val_mae: 0.75, took 5.7 sec\n",
      "Epoch 7/100:\n",
      "val_loss: 0.84, val_rmse: 0.92, val_mae: 0.74, took 5.7 sec\n",
      "Epoch 8/100:\n",
      "val_loss: 0.83, val_rmse: 0.91, val_mae: 0.73, took 5.8 sec\n",
      "Epoch 9/100:\n",
      "val_loss: 0.82, val_rmse: 0.91, val_mae: 0.73, took 5.8 sec\n",
      "Epoch 10/100:\n",
      "val_loss: 0.82, val_rmse: 0.90, val_mae: 0.72, took 5.9 sec\n",
      "Epoch 11/100:\n",
      "val_loss: 0.81, val_rmse: 0.90, val_mae: 0.72, took 5.8 sec\n",
      "Epoch 12/100:\n",
      "val_loss: 0.80, val_rmse: 0.90, val_mae: 0.71, took 5.8 sec\n",
      "Epoch 13/100:\n",
      "val_loss: 0.80, val_rmse: 0.89, val_mae: 0.71, took 5.9 sec\n",
      "Epoch 14/100:\n",
      "val_loss: 0.80, val_rmse: 0.89, val_mae: 0.71, took 5.8 sec\n",
      "Epoch 15/100:\n",
      "val_loss: 0.79, val_rmse: 0.89, val_mae: 0.71, took 6.0 sec\n",
      "Epoch 16/100:\n",
      "val_loss: 0.79, val_rmse: 0.89, val_mae: 0.70, took 5.8 sec\n",
      "Epoch 17/100:\n",
      "val_loss: 0.79, val_rmse: 0.89, val_mae: 0.70, took 5.9 sec\n",
      "Epoch 18/100:\n",
      "val_loss: 0.79, val_rmse: 0.89, val_mae: 0.70, took 5.7 sec\n",
      "Epoch 19/100:\n",
      "val_loss: 0.78, val_rmse: 0.88, val_mae: 0.70, took 6.0 sec\n",
      "Epoch 20/100:\n",
      "val_loss: 0.78, val_rmse: 0.88, val_mae: 0.70, took 5.9 sec\n",
      "Epoch 21/100:\n",
      "val_loss: 0.78, val_rmse: 0.88, val_mae: 0.70, took 6.0 sec\n",
      "Epoch 22/100:\n",
      "val_loss: 0.78, val_rmse: 0.88, val_mae: 0.70, took 5.7 sec\n",
      "this stuff was running 128.3 sec\n"
     ]
    }
   ],
   "source": [
    "model = Funk(lr=0.001, reg=0.005, n_epochs=100, n_factors=20)\n",
    "model.fit(tr_df, tr_df.sample(frac = 0.7))\n",
    "\n",
    "val_preds = model.predict(val_df)\n",
    "val_rmse = rmse(val_df.rating.values, val_preds)\n",
    "\n",
    "tr_preds = model.predict(tr_df)\n",
    "train_rmse = rmse(tr_df.rating.values, tr_preds)\n",
    "\n",
    "model_name = \"funk-svd\"\n",
    "results_df[model_name] = val_preds\n",
    "scores[model_name] = {\n",
    "    \"train\": train_rmse,\n",
    "    \"val\": val_rmse,\n",
    "}"
   ]
  },
  {
   "cell_type": "markdown",
   "metadata": {},
   "source": [
    "## NNMF "
   ]
  },
  {
   "cell_type": "code",
   "execution_count": 9,
   "metadata": {},
   "outputs": [
    {
     "name": "stderr",
     "output_type": "stream",
     "text": [
      "/home/iovcharenko/Documents/NotWork/UCU/liner-algebra/ucu-linear-algebra-final-project/src/nnmf.py:47: SparseEfficiencyWarning: Comparing a sparse matrix with 0 using == is inefficient, try using != instead.\n",
      "  X = generate_sparce_matrix(X)\n",
      "/home/iovcharenko/miniconda3/envs/lin-algebra/lib/python3.7/site-packages/scipy/sparse/_index.py:125: SparseEfficiencyWarning: Changing the sparsity structure of a csr_matrix is expensive. lil_matrix is more efficient.\n",
      "  self._set_arrayXarray(i, j, x)\n",
      "train loop: 100%|██████████| 1000/1000 [01:03<00:00, 15.67it/s]\n",
      "predict loop: 28952it [00:01, 14538.10it/s]\n",
      "predict loop: 115805it [00:08, 14336.93it/s]\n"
     ]
    }
   ],
   "source": [
    "model = NNMFModel(n_components=40, max_iter=1000, epsilon=1e-2, verbose=True)\n",
    "model.fit(tr_df)\n",
    "\n",
    "val_preds = model.predict(val_df)\n",
    "val_rmse = rmse(val_df.rating.values, val_preds)\n",
    "\n",
    "tr_preds = model.predict(tr_df)\n",
    "train_rmse = rmse(tr_df.rating.values, tr_preds)\n",
    "\n",
    "\n",
    "model_name = \"nnmf\"\n",
    "results_df[model_name] = val_preds\n",
    "scores[model_name] = {\n",
    "    \"train\": train_rmse,\n",
    "    \"val\": val_rmse,\n",
    "}"
   ]
  },
  {
   "cell_type": "markdown",
   "metadata": {},
   "source": [
    "## Neural SVD"
   ]
  },
  {
   "cell_type": "code",
   "execution_count": 10,
   "metadata": {},
   "outputs": [
    {
     "name": "stderr",
     "output_type": "stream",
     "text": [
      "train loop, loss 0.9594854772464069, lr 0.0010000000000000002, val rmse 0.9809690192599654: 100%|██████████| 50/50 [02:14<00:00,  2.69s/it]\n"
     ]
    }
   ],
   "source": [
    "model = NeuralSVD(\n",
    "    k=50, n_epochs=50, reg=0.0,\n",
    "    lr=0.1, batch_size=128,\n",
    "    device=torch.device(\"cuda:0\" if torch.cuda.is_available() else \"cpu\"),\n",
    "    use_scheduler=True,\n",
    "    scheduler_step=20,\n",
    "    scheduler_gamma=0.1,\n",
    ")\n",
    "model.fit(tr_df, val_df)\n",
    "\n",
    "\n",
    "val_preds = model.predict(val_df)\n",
    "val_rmse = rmse(val_df.rating.values, val_preds)\n",
    "\n",
    "tr_preds = model.predict(tr_df)\n",
    "train_rmse = rmse(tr_df.rating.values, tr_preds)\n",
    "\n",
    "model_name = \"neural-svd\"\n",
    "results_df[model_name] = val_preds\n",
    "scores[model_name] = {\n",
    "    \"train\": train_rmse,\n",
    "    \"val\": val_rmse,\n",
    "}"
   ]
  },
  {
   "cell_type": "markdown",
   "metadata": {},
   "source": [
    "## Surprise SVD "
   ]
  },
  {
   "cell_type": "code",
   "execution_count": 11,
   "metadata": {},
   "outputs": [
    {
     "name": "stderr",
     "output_type": "stream",
     "text": [
      "28952it [00:02, 11772.01it/s]\n",
      "115805it [00:09, 11744.05it/s]\n"
     ]
    }
   ],
   "source": [
    "reader = Reader()\n",
    "data = Dataset.load_from_df(tr_df[['customer_id', 'movie_id', 'rating']], reader)\n",
    "trainset = data.build_full_trainset()\n",
    "\n",
    "model = SVD()\n",
    "model.fit(trainset)\n",
    "\n",
    "def predict(surprise_model, df):\n",
    "    preds = []\n",
    "    for _, item in tqdm(df.iterrows()):\n",
    "        preds.append(surprise_model.predict(item.customer_id, item.movie_id).est)\n",
    "    return preds\n",
    "\n",
    "\n",
    "val_preds = predict(model, val_df)\n",
    "val_rmse = rmse(val_df.rating.values, val_preds)\n",
    "\n",
    "tr_preds = predict(model, tr_df)\n",
    "train_rmse = rmse(tr_df.rating.values, tr_preds)\n",
    "\n",
    "model_name = \"surprise-svd\"\n",
    "results_df[model_name] = val_preds\n",
    "scores[model_name] = {\n",
    "    \"train\": train_rmse,\n",
    "    \"val\": val_rmse,\n",
    "}"
   ]
  },
  {
   "cell_type": "markdown",
   "metadata": {},
   "source": [
    "## Dummy predictor (mean value)"
   ]
  },
  {
   "cell_type": "code",
   "execution_count": 12,
   "metadata": {},
   "outputs": [],
   "source": [
    "val_rmse = rmse(val_df.rating.values, np.repeat(val_df.rating.mean(), len(val_df)))\\\n",
    "\n",
    "model_name = \"dummy\"\n",
    "scores[model_name] = {\n",
    "    \"val\": val_rmse,\n",
    "}"
   ]
  },
  {
   "cell_type": "markdown",
   "metadata": {},
   "source": [
    "## Save results table"
   ]
  },
  {
   "cell_type": "code",
   "execution_count": 13,
   "metadata": {},
   "outputs": [],
   "source": [
    "results_folder = Path(\"results\")\n",
    "cur_date = datetime.datetime.now().strftime(\"%d-%m-%y\")\n",
    "cur_results_folder = results_folder / cur_date\n",
    "cur_results_folder.mkdir(parents=True, exist_ok=True)"
   ]
  },
  {
   "cell_type": "code",
   "execution_count": 14,
   "metadata": {},
   "outputs": [
    {
     "data": {
      "text/html": [
       "<div>\n",
       "<style scoped>\n",
       "    .dataframe tbody tr th:only-of-type {\n",
       "        vertical-align: middle;\n",
       "    }\n",
       "\n",
       "    .dataframe tbody tr th {\n",
       "        vertical-align: top;\n",
       "    }\n",
       "\n",
       "    .dataframe thead th {\n",
       "        text-align: right;\n",
       "    }\n",
       "</style>\n",
       "<table border=\"1\" class=\"dataframe\">\n",
       "  <thead>\n",
       "    <tr style=\"text-align: right;\">\n",
       "      <th></th>\n",
       "      <th>als-svd</th>\n",
       "      <th>funk-svd</th>\n",
       "      <th>nnmf</th>\n",
       "      <th>neural-svd</th>\n",
       "      <th>surprise-svd</th>\n",
       "      <th>dummy</th>\n",
       "    </tr>\n",
       "  </thead>\n",
       "  <tbody>\n",
       "    <tr>\n",
       "      <th>train</th>\n",
       "      <td>0.629</td>\n",
       "      <td>0.882</td>\n",
       "      <td>0.837</td>\n",
       "      <td>0.961</td>\n",
       "      <td>0.666</td>\n",
       "      <td>NaN</td>\n",
       "    </tr>\n",
       "    <tr>\n",
       "      <th>val</th>\n",
       "      <td>0.886</td>\n",
       "      <td>0.914</td>\n",
       "      <td>1.000</td>\n",
       "      <td>0.981</td>\n",
       "      <td>0.895</td>\n",
       "      <td>1.049</td>\n",
       "    </tr>\n",
       "  </tbody>\n",
       "</table>\n",
       "</div>"
      ],
      "text/plain": [
       "       als-svd  funk-svd   nnmf  neural-svd  surprise-svd  dummy\n",
       "train    0.629     0.882  0.837       0.961         0.666    NaN\n",
       "val      0.886     0.914  1.000       0.981         0.895  1.049"
      ]
     },
     "execution_count": 14,
     "metadata": {},
     "output_type": "execute_result"
    }
   ],
   "source": [
    "scores_df = pd.DataFrame(scores)\n",
    "scores_df = scores_df.round(3)\n",
    "scores_df.to_csv(cur_results_folder / \"scores.csv\", index=True)\n",
    "scores_df"
   ]
  },
  {
   "cell_type": "code",
   "execution_count": 15,
   "metadata": {},
   "outputs": [
    {
     "data": {
      "text/html": [
       "<div>\n",
       "<style scoped>\n",
       "    .dataframe tbody tr th:only-of-type {\n",
       "        vertical-align: middle;\n",
       "    }\n",
       "\n",
       "    .dataframe tbody tr th {\n",
       "        vertical-align: top;\n",
       "    }\n",
       "\n",
       "    .dataframe thead th {\n",
       "        text-align: right;\n",
       "    }\n",
       "</style>\n",
       "<table border=\"1\" class=\"dataframe\">\n",
       "  <thead>\n",
       "    <tr style=\"text-align: right;\">\n",
       "      <th></th>\n",
       "      <th>movie_id</th>\n",
       "      <th>customer_id</th>\n",
       "      <th>rating</th>\n",
       "      <th>date</th>\n",
       "      <th>split</th>\n",
       "      <th>als-svd</th>\n",
       "      <th>funk-svd</th>\n",
       "      <th>nnmf</th>\n",
       "      <th>neural-svd</th>\n",
       "      <th>surprise-svd</th>\n",
       "    </tr>\n",
       "  </thead>\n",
       "  <tbody>\n",
       "    <tr>\n",
       "      <th>1</th>\n",
       "      <td>540</td>\n",
       "      <td>646</td>\n",
       "      <td>3.0</td>\n",
       "      <td>1999-12-31</td>\n",
       "      <td>val</td>\n",
       "      <td>2.880528</td>\n",
       "      <td>2.599780</td>\n",
       "      <td>3.658644</td>\n",
       "      <td>3.270864</td>\n",
       "      <td>2.877070</td>\n",
       "    </tr>\n",
       "    <tr>\n",
       "      <th>6</th>\n",
       "      <td>723</td>\n",
       "      <td>646</td>\n",
       "      <td>2.0</td>\n",
       "      <td>2000-01-06</td>\n",
       "      <td>val</td>\n",
       "      <td>3.271187</td>\n",
       "      <td>3.434981</td>\n",
       "      <td>3.869058</td>\n",
       "      <td>3.270864</td>\n",
       "      <td>3.480361</td>\n",
       "    </tr>\n",
       "    <tr>\n",
       "      <th>10</th>\n",
       "      <td>398</td>\n",
       "      <td>509</td>\n",
       "      <td>4.0</td>\n",
       "      <td>2000-01-06</td>\n",
       "      <td>val</td>\n",
       "      <td>3.882678</td>\n",
       "      <td>4.064758</td>\n",
       "      <td>4.153707</td>\n",
       "      <td>3.762923</td>\n",
       "      <td>4.039360</td>\n",
       "    </tr>\n",
       "    <tr>\n",
       "      <th>11</th>\n",
       "      <td>391</td>\n",
       "      <td>509</td>\n",
       "      <td>4.0</td>\n",
       "      <td>2000-01-06</td>\n",
       "      <td>val</td>\n",
       "      <td>3.999982</td>\n",
       "      <td>4.081499</td>\n",
       "      <td>4.102665</td>\n",
       "      <td>3.762923</td>\n",
       "      <td>4.003301</td>\n",
       "    </tr>\n",
       "    <tr>\n",
       "      <th>13</th>\n",
       "      <td>412</td>\n",
       "      <td>646</td>\n",
       "      <td>1.0</td>\n",
       "      <td>2000-01-06</td>\n",
       "      <td>val</td>\n",
       "      <td>2.908660</td>\n",
       "      <td>3.536602</td>\n",
       "      <td>3.888122</td>\n",
       "      <td>3.270864</td>\n",
       "      <td>3.700313</td>\n",
       "    </tr>\n",
       "  </tbody>\n",
       "</table>\n",
       "</div>"
      ],
      "text/plain": [
       "    movie_id  customer_id  rating        date split   als-svd  funk-svd  \\\n",
       "1        540          646     3.0  1999-12-31   val  2.880528  2.599780   \n",
       "6        723          646     2.0  2000-01-06   val  3.271187  3.434981   \n",
       "10       398          509     4.0  2000-01-06   val  3.882678  4.064758   \n",
       "11       391          509     4.0  2000-01-06   val  3.999982  4.081499   \n",
       "13       412          646     1.0  2000-01-06   val  2.908660  3.536602   \n",
       "\n",
       "        nnmf  neural-svd  surprise-svd  \n",
       "1   3.658644    3.270864      2.877070  \n",
       "6   3.869058    3.270864      3.480361  \n",
       "10  4.153707    3.762923      4.039360  \n",
       "11  4.102665    3.762923      4.003301  \n",
       "13  3.888122    3.270864      3.700313  "
      ]
     },
     "execution_count": 15,
     "metadata": {},
     "output_type": "execute_result"
    }
   ],
   "source": [
    "results_df.to_csv(cur_results_folder / \"val_preds.csv\", index=False)\n",
    "results_df.head()"
   ]
  }
 ],
 "metadata": {
  "kernelspec": {
   "display_name": "Python 3",
   "language": "python",
   "name": "python3"
  },
  "language_info": {
   "codemirror_mode": {
    "name": "ipython",
    "version": 3
   },
   "file_extension": ".py",
   "mimetype": "text/x-python",
   "name": "python",
   "nbconvert_exporter": "python",
   "pygments_lexer": "ipython3",
   "version": "3.7.9"
  }
 },
 "nbformat": 4,
 "nbformat_minor": 4
}
