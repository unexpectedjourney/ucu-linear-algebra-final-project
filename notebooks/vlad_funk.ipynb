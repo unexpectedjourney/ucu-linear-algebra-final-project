{
 "cells": [
  {
   "cell_type": "code",
   "execution_count": 1,
   "metadata": {},
   "outputs": [
    {
     "name": "stdout",
     "output_type": "stream",
     "text": [
      "C:\\Users\\aweso\\ucu-linear-algebra-final-project\n"
     ]
    }
   ],
   "source": [
    "%cd .."
   ]
  },
  {
   "cell_type": "code",
   "execution_count": 42,
   "metadata": {},
   "outputs": [],
   "source": [
    "import random\n",
    "import time\n",
    "import numpy as np\n",
    "import pandas as pd\n",
    "import matplotlib.pyplot as plt \n",
    "\n",
    "from pathlib import Path\n",
    "\n",
    "from surprise import SVD\n",
    "from surprise import Dataset\n",
    "from surprise import Reader\n",
    "\n",
    "from src.funk import Funk\n",
    "from src.metrics import rmse\n",
    "from sklearn.metrics import mean_absolute_error"
   ]
  },
  {
   "cell_type": "code",
   "execution_count": 36,
   "metadata": {},
   "outputs": [],
   "source": [
    "df = pd.read_csv(Path(\"data/subsets/low-sparsity\")/\"records.csv\")\n",
    "# df = pd.read_csv(Path(\"data\") / \"subsets\" / \"mid-sparsity\" / \"records.csv\")\n",
    "# df = pd.read_csv(Path(\"data\") / \"subsets\" / \"high-sparsity\" / \"records.csv\")"
   ]
  },
  {
   "cell_type": "code",
   "execution_count": 13,
   "metadata": {},
   "outputs": [],
   "source": [
    "train = df[df.split == 'train']\n",
    "sgd_val = train.sample(frac = 0.7) # data that will be used for sgd weights correction\n",
    "test = df[df.split == 'val']"
   ]
  },
  {
   "cell_type": "code",
   "execution_count": 14,
   "metadata": {},
   "outputs": [
    {
     "data": {
      "text/plain": [
       "(115805, 81064, 28952)"
      ]
     },
     "execution_count": 14,
     "metadata": {},
     "output_type": "execute_result"
    }
   ],
   "source": [
    "train.shape[0],sgd_val.shape[0],test.shape[0]"
   ]
  },
  {
   "cell_type": "code",
   "execution_count": 15,
   "metadata": {},
   "outputs": [],
   "source": [
    "model = Funk(lr=0.001, reg=0.005, n_epochs=100, n_factors=20)"
   ]
  },
  {
   "cell_type": "code",
   "execution_count": 16,
   "metadata": {},
   "outputs": [
    {
     "name": "stdout",
     "output_type": "stream",
     "text": [
      "Epoch 1/100:\n",
      "val_loss: 1.01, val_rmse: 1.00, val_mae: 0.83, took 8.4 sec\n",
      "Epoch 2/100:\n",
      "val_loss: 0.96, val_rmse: 0.98, val_mae: 0.81, took 8.1 sec\n",
      "Epoch 3/100:\n",
      "val_loss: 0.92, val_rmse: 0.96, val_mae: 0.79, took 8.0 sec\n",
      "Epoch 4/100:\n",
      "val_loss: 0.89, val_rmse: 0.95, val_mae: 0.77, took 8.3 sec\n",
      "Epoch 5/100:\n",
      "val_loss: 0.87, val_rmse: 0.93, val_mae: 0.76, took 8.1 sec\n",
      "Epoch 6/100:\n",
      "val_loss: 0.86, val_rmse: 0.93, val_mae: 0.75, took 8.3 sec\n",
      "Epoch 7/100:\n",
      "val_loss: 0.84, val_rmse: 0.92, val_mae: 0.74, took 8.1 sec\n",
      "Epoch 8/100:\n",
      "val_loss: 0.83, val_rmse: 0.91, val_mae: 0.73, took 8.3 sec\n",
      "Epoch 9/100:\n",
      "val_loss: 0.82, val_rmse: 0.91, val_mae: 0.73, took 8.1 sec\n",
      "Epoch 10/100:\n",
      "val_loss: 0.82, val_rmse: 0.90, val_mae: 0.72, took 8.6 sec\n",
      "Epoch 11/100:\n",
      "val_loss: 0.81, val_rmse: 0.90, val_mae: 0.72, took 8.3 sec\n",
      "Epoch 12/100:\n",
      "val_loss: 0.80, val_rmse: 0.90, val_mae: 0.71, took 8.5 sec\n",
      "Epoch 13/100:\n",
      "val_loss: 0.80, val_rmse: 0.89, val_mae: 0.71, took 8.2 sec\n",
      "Epoch 14/100:\n",
      "val_loss: 0.80, val_rmse: 0.89, val_mae: 0.71, took 8.3 sec\n",
      "Epoch 15/100:\n",
      "val_loss: 0.79, val_rmse: 0.89, val_mae: 0.71, took 8.3 sec\n",
      "Epoch 16/100:\n",
      "val_loss: 0.79, val_rmse: 0.89, val_mae: 0.70, took 8.2 sec\n",
      "Epoch 17/100:\n",
      "val_loss: 0.79, val_rmse: 0.89, val_mae: 0.70, took 8.2 sec\n",
      "Epoch 18/100:\n",
      "val_loss: 0.78, val_rmse: 0.89, val_mae: 0.70, took 8.3 sec\n",
      "Epoch 19/100:\n",
      "val_loss: 0.78, val_rmse: 0.88, val_mae: 0.70, took 8.4 sec\n",
      "Epoch 20/100:\n",
      "val_loss: 0.78, val_rmse: 0.88, val_mae: 0.70, took 8.1 sec\n",
      "Epoch 21/100:\n",
      "val_loss: 0.78, val_rmse: 0.88, val_mae: 0.70, took 8.4 sec\n",
      "Epoch 22/100:\n",
      "val_loss: 0.78, val_rmse: 0.88, val_mae: 0.70, took 8.3 sec\n",
      "this stuff was running 181.7 sec\n"
     ]
    },
    {
     "data": {
      "text/plain": [
       "<src.funk.Funk at 0x12771579e80>"
      ]
     },
     "execution_count": 16,
     "metadata": {},
     "output_type": "execute_result"
    }
   ],
   "source": [
    "model.fit(train,sgd_val)"
   ]
  },
  {
   "cell_type": "code",
   "execution_count": 17,
   "metadata": {},
   "outputs": [],
   "source": [
    "metrics = model.metrics[model.metrics.Loss != 0]"
   ]
  },
  {
   "cell_type": "code",
   "execution_count": 18,
   "metadata": {},
   "outputs": [
    {
     "data": {
      "text/html": [
       "<div>\n",
       "<style scoped>\n",
       "    .dataframe tbody tr th:only-of-type {\n",
       "        vertical-align: middle;\n",
       "    }\n",
       "\n",
       "    .dataframe tbody tr th {\n",
       "        vertical-align: top;\n",
       "    }\n",
       "\n",
       "    .dataframe thead th {\n",
       "        text-align: right;\n",
       "    }\n",
       "</style>\n",
       "<table border=\"1\" class=\"dataframe\">\n",
       "  <thead>\n",
       "    <tr style=\"text-align: right;\">\n",
       "      <th></th>\n",
       "      <th>Loss</th>\n",
       "      <th>RMSE</th>\n",
       "      <th>MAE</th>\n",
       "    </tr>\n",
       "  </thead>\n",
       "  <tbody>\n",
       "    <tr>\n",
       "      <th>0</th>\n",
       "      <td>1.007024</td>\n",
       "      <td>1.003506</td>\n",
       "      <td>0.833768</td>\n",
       "    </tr>\n",
       "  </tbody>\n",
       "</table>\n",
       "</div>"
      ],
      "text/plain": [
       "       Loss      RMSE       MAE\n",
       "0  1.007024  1.003506  0.833768"
      ]
     },
     "execution_count": 18,
     "metadata": {},
     "output_type": "execute_result"
    }
   ],
   "source": [
    "metrics.head(1)"
   ]
  },
  {
   "cell_type": "code",
   "execution_count": 19,
   "metadata": {},
   "outputs": [
    {
     "data": {
      "text/html": [
       "<div>\n",
       "<style scoped>\n",
       "    .dataframe tbody tr th:only-of-type {\n",
       "        vertical-align: middle;\n",
       "    }\n",
       "\n",
       "    .dataframe tbody tr th {\n",
       "        vertical-align: top;\n",
       "    }\n",
       "\n",
       "    .dataframe thead th {\n",
       "        text-align: right;\n",
       "    }\n",
       "</style>\n",
       "<table border=\"1\" class=\"dataframe\">\n",
       "  <thead>\n",
       "    <tr style=\"text-align: right;\">\n",
       "      <th></th>\n",
       "      <th>Loss</th>\n",
       "      <th>RMSE</th>\n",
       "      <th>MAE</th>\n",
       "    </tr>\n",
       "  </thead>\n",
       "  <tbody>\n",
       "    <tr>\n",
       "      <th>21</th>\n",
       "      <td>0.776215</td>\n",
       "      <td>0.881031</td>\n",
       "      <td>0.696186</td>\n",
       "    </tr>\n",
       "  </tbody>\n",
       "</table>\n",
       "</div>"
      ],
      "text/plain": [
       "        Loss      RMSE       MAE\n",
       "21  0.776215  0.881031  0.696186"
      ]
     },
     "execution_count": 19,
     "metadata": {},
     "output_type": "execute_result"
    }
   ],
   "source": [
    "metrics.tail(1) # final train metrics"
   ]
  },
  {
   "cell_type": "markdown",
   "metadata": {},
   "source": [
    "## Check metrics for test data predictions"
   ]
  },
  {
   "cell_type": "code",
   "execution_count": 20,
   "metadata": {},
   "outputs": [],
   "source": [
    "preds = model.predict(test)"
   ]
  },
  {
   "cell_type": "code",
   "execution_count": 24,
   "metadata": {},
   "outputs": [
    {
     "name": "stdout",
     "output_type": "stream",
     "text": [
      "MAE for test = 0.7209566531356344\n",
      "RMSE for test = 0.9137722499280283\n"
     ]
    }
   ],
   "source": [
    "print('MAE for test = {}'.format(mean_absolute_error(test['rating'],preds)))\n",
    "print('RMSE for test = {}'.format(rmse(test['rating'],preds)))"
   ]
  },
  {
   "cell_type": "markdown",
   "metadata": {},
   "source": [
    "## Check Dummy predictor (mean value)"
   ]
  },
  {
   "cell_type": "code",
   "execution_count": 25,
   "metadata": {},
   "outputs": [
    {
     "data": {
      "text/plain": [
       "1.0485102138998519"
      ]
     },
     "execution_count": 25,
     "metadata": {},
     "output_type": "execute_result"
    }
   ],
   "source": [
    "rmse(test.rating.values, np.repeat(test.rating.mean(), test.shape[0])) # RMSE for naive prediction"
   ]
  },
  {
   "cell_type": "markdown",
   "metadata": {},
   "source": [
    "## Check SVD from Surprise lib "
   ]
  },
  {
   "cell_type": "code",
   "execution_count": 43,
   "metadata": {},
   "outputs": [
    {
     "name": "stdout",
     "output_type": "stream",
     "text": [
      "RMSE: 0.8946221155989691\n",
      "took 5.76 sec\n"
     ]
    }
   ],
   "source": [
    "reader = Reader()\n",
    "data = Dataset.load_from_df(train[['customer_id', 'movie_id', 'rating']], reader)\n",
    "trainset = data.build_full_trainset()\n",
    "start = time.time()\n",
    "model = SVD()\n",
    "model.fit(trainset)\n",
    "\n",
    "def predict(surprise_model, df):\n",
    "    preds = []\n",
    "    for i, r in df.iterrows():\n",
    "        preds.append(surprise_model.predict(r.customer_id, r.movie_id).est)\n",
    "    return preds\n",
    "end = time.time()\n",
    "print('RMSE:',rmse(test.rating.values, predict(model, test))) \n",
    "print(f'took {end-start:.2f} sec')\n",
    "# this guy is a lil bit cooler and much faster"
   ]
  }
 ],
 "metadata": {
  "kernelspec": {
   "display_name": "Python 3",
   "language": "python",
   "name": "python3"
  },
  "language_info": {
   "codemirror_mode": {
    "name": "ipython",
    "version": 3
   },
   "file_extension": ".py",
   "mimetype": "text/x-python",
   "name": "python",
   "nbconvert_exporter": "python",
   "pygments_lexer": "ipython3",
   "version": "3.8.3"
  }
 },
 "nbformat": 4,
 "nbformat_minor": 4
}
