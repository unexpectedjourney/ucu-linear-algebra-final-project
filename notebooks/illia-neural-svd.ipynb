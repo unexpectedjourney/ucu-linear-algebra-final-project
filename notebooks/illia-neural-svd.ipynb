{
 "cells": [
  {
   "cell_type": "code",
   "execution_count": null,
   "metadata": {},
   "outputs": [],
   "source": [
    "%load_ext autoreload\n",
    "%autoreload 2"
   ]
  },
  {
   "cell_type": "code",
   "execution_count": null,
   "metadata": {},
   "outputs": [],
   "source": [
    "%cd .."
   ]
  },
  {
   "cell_type": "code",
   "execution_count": 3,
   "metadata": {},
   "outputs": [],
   "source": [
    "import torch \n",
    "import random \n",
    "\n",
    "import numpy as np\n",
    "import numpy.linalg as la\n",
    "import pandas as pd\n",
    "import matplotlib.pyplot as plt \n",
    "\n",
    "from pathlib import Path\n",
    "from tqdm.cli import tqdm \n",
    "\n",
    "\n",
    "from src.neural_svd import NeuralSVD\n",
    "from src.neural_svd import SimpleSVDModel\n",
    "from src.neural_svd import NeuralSVDModel\n",
    "from src.neural_svd import NeuralSVDModelWithBias\n",
    "from src.metrics import rmse"
   ]
  },
  {
   "cell_type": "code",
   "execution_count": 4,
   "metadata": {},
   "outputs": [],
   "source": [
    "data_folder = Path(\"data\")"
   ]
  },
  {
   "cell_type": "code",
   "execution_count": 5,
   "metadata": {},
   "outputs": [],
   "source": [
    "df = pd.read_csv(data_folder / \"subsets\" / \"low-sparsity\" / \"records.csv\")\n",
    "# df = pd.read_csv(data_folder / \"subsets\" / \"mid-sparsity\" / \"records.csv\")\n",
    "# df = pd.read_csv(data_folder / \"subsets\" / \"high-sparsity\" / \"records.csv\")\n",
    "\n",
    "tr_df = df[df.split == \"train\"].reset_index(drop=True)\n",
    "val_df = df[df.split == \"val\"].reset_index(drop=True)"
   ]
  },
  {
   "cell_type": "code",
   "execution_count": 6,
   "metadata": {},
   "outputs": [],
   "source": [
    "device = torch.device(\"cuda:0\" if torch.cuda.is_available() else \"cpu\")"
   ]
  },
  {
   "cell_type": "code",
   "execution_count": 7,
   "metadata": {},
   "outputs": [
    {
     "name": "stderr",
     "output_type": "stream",
     "text": [
      "train loop, loss 0.9594854772464069, lr 0.0010000000000000002, val rmse 0.9809722083800567: 100%|██████████| 50/50 [02:10<00:00,  2.62s/it]\n"
     ]
    }
   ],
   "source": [
    "model = NeuralSVD(\n",
    "    k=50, n_epochs=50, reg=0.0,\n",
    "    lr=0.1, batch_size=128,\n",
    "    device=device, \n",
    "#     model_type=SimpleSVDModel\n",
    "    model_type=NeuralSVDModel,\n",
    "    \n",
    "    use_scheduler=True,\n",
    "    scheduler_step=20,\n",
    "    scheduler_gamma=0.1,\n",
    ")\n",
    "model.fit(tr_df, val_df)"
   ]
  },
  {
   "cell_type": "code",
   "execution_count": 8,
   "metadata": {},
   "outputs": [
    {
     "data": {
      "image/png": "[encoded data removed]",
      "text/plain": [
       "<Figure size 432x288 with 1 Axes>"
      ]
     },
     "metadata": {
      "needs_background": "light"
     },
     "output_type": "display_data"
    }
   ],
   "source": [
    "model.plot()"
   ]
  },
  {
   "cell_type": "code",
   "execution_count": 9,
   "metadata": {},
   "outputs": [
    {
     "name": "stdout",
     "output_type": "stream",
     "text": [
      "val rmse: 0.9809722083800567\n"
     ]
    }
   ],
   "source": [
    "val_preds = model.predict(val_df)\n",
    "print(\"val rmse:\", rmse(val_df.rating.values, val_preds))"
   ]
  }
 ],
 "metadata": {
  "kernelspec": {
   "display_name": "Python 3",
   "language": "python",
   "name": "python3"
  },
  "language_info": {
   "codemirror_mode": {
    "name": "ipython",
    "version": 3
   },
   "file_extension": ".py",
   "mimetype": "text/x-python",
   "name": "python",
   "nbconvert_exporter": "python",
   "pygments_lexer": "ipython3",
   "version": "3.7.9"
  }
 },
 "nbformat": 4,
 "nbformat_minor": 4
}
